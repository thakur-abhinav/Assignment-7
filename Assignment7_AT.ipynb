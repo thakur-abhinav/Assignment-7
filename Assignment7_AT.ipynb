{
  "nbformat": 4,
  "nbformat_minor": 0,
  "metadata": {
    "colab": {
      "name": "Assignment7.ipynb",
      "version": "0.3.2",
      "provenance": []
    },
    "kernelspec": {
      "name": "python3",
      "display_name": "Python 3"
    },
    "accelerator": "GPU"
  },
  "cells": [
    {
      "cell_type": "code",
      "metadata": {
        "id": "72o_liGtHqt7",
        "colab_type": "code",
        "colab": {}
      },
      "source": [
        "import tensorflow as tf\n",
        "import numpy as np\n",
        "import os\n",
        "import time\n",
        "import matplotlib.pyplot as plt\n",
        "tf.enable_eager_execution()"
      ],
      "execution_count": 0,
      "outputs": []
    },
    {
      "cell_type": "code",
      "metadata": {
        "id": "6PKEwLdHJjx5",
        "colab_type": "code",
        "colab": {
          "base_uri": "https://localhost:8080/",
          "height": 141
        },
        "outputId": "e360038b-62bc-48d3-f377-73ee183977aa"
      },
      "source": [
        "from google.colab import drive\n",
        "\n",
        "drive.mount('/content/gdrive')\n",
        "root_path = 'gdrive/My Drive/Colab Notebooks/'\n",
        "'''\n",
        "from google.colab import files\n",
        "uploaded = files.upload()\n",
        "file = 'shakespeare_input.txt'\n",
        "'''"
      ],
      "execution_count": 3,
      "outputs": [
        {
          "output_type": "stream",
          "text": [
            "Go to this URL in a browser: https://accounts.google.com/o/oauth2/auth?client_id=947318989803-6bn6qk8qdgf4n4g3pfee6491hc0brc4i.apps.googleusercontent.com&redirect_uri=urn%3Aietf%3Awg%3Aoauth%3A2.0%3Aoob&scope=email%20https%3A%2F%2Fwww.googleapis.com%2Fauth%2Fdocs.test%20https%3A%2F%2Fwww.googleapis.com%2Fauth%2Fdrive%20https%3A%2F%2Fwww.googleapis.com%2Fauth%2Fdrive.photos.readonly%20https%3A%2F%2Fwww.googleapis.com%2Fauth%2Fpeopleapi.readonly&response_type=code\n",
            "\n",
            "Enter your authorization code:\n",
            "··········\n",
            "Mounted at /content/gdrive\n"
          ],
          "name": "stdout"
        },
        {
          "output_type": "execute_result",
          "data": {
            "text/plain": [
              "\"\\nfrom google.colab import files\\nuploaded = files.upload()\\nfile = 'shakespeare_input.txt'\\n\""
            ]
          },
          "metadata": {
            "tags": []
          },
          "execution_count": 3
        }
      ]
    },
    {
      "cell_type": "code",
      "metadata": {
        "id": "cyTUBXlVKd-R",
        "colab_type": "code",
        "colab": {}
      },
      "source": [
        "#opening file and reading data and making char2id,id2char dictionaries\n",
        "filepath='/content/gdrive/My Drive/Colab Notebooks/shakespeare_input.txt'\n",
        "text = open(filepath, 'rb').read().decode(encoding='utf-8')\n",
        "dictionary = sorted(set(text))\n",
        "char2idx = {u:i for i, u in enumerate(dictionary)}\n",
        "idx2char = np.array(dictionary)\n",
        "text= np.array([char2idx[c] for c in text])"
      ],
      "execution_count": 0,
      "outputs": []
    },
    {
      "cell_type": "code",
      "metadata": {
        "id": "1UJHjE5-LbAk",
        "colab_type": "code",
        "colab": {}
      },
      "source": [
        "def split_input_target(c):\n",
        "    '''\n",
        "    This function splits a given sequence into input and\n",
        "    output characters.\n",
        "    '''\n",
        "    input_text = c[:-1]\n",
        "    target_text = c[1:]\n",
        "    return input_text, target_text\n",
        "  \n",
        "seq_length=100\n",
        "char_dataset = tf.data.Dataset.from_tensor_slices(text)\n",
        "sequences = char_dataset.batch(seq_length+1, drop_remainder=True)\n",
        "\n",
        "dataset = sequences.map(split_input_target)\n",
        "dataset = dataset.shuffle(10000).batch(64, drop_remainder=True)"
      ],
      "execution_count": 0,
      "outputs": []
    },
    {
      "cell_type": "code",
      "metadata": {
        "id": "0ixbh-SZLt9s",
        "colab_type": "code",
        "colab": {
          "base_uri": "https://localhost:8080/",
          "height": 260
        },
        "outputId": "70924d60-f818-4dcf-c686-bdd8ca38ce1e"
      },
      "source": [
        "def build_model(vocab_size, embedding_dim, rnn_units, batch_size):\n",
        "  '''\n",
        "  This function builds a lstm model, with first layers as\n",
        "  embedding. Second as lstm and then a dense layer with\n",
        "  dictionary size output.\n",
        "  '''\n",
        "  model = tf.keras.Sequential([\n",
        "  tf.keras.layers.Embedding(vocab_size, embedding_dim, batch_input_shape=[batch_size, None]),\n",
        "  tf.keras.layers.LSTM(rnn_units,return_sequences=True,stateful=True,recurrent_initializer='glorot_uniform'),\n",
        "  tf.keras.layers.Dense(vocab_size)])\n",
        "  return model\n",
        "\n",
        "model = build_model(vocab_size = len(dictionary),embedding_dim=256,rnn_units=512,batch_size=64)\n",
        "\n",
        "model.summary()"
      ],
      "execution_count": 33,
      "outputs": [
        {
          "output_type": "stream",
          "text": [
            "Model: \"sequential_11\"\n",
            "_________________________________________________________________\n",
            "Layer (type)                 Output Shape              Param #   \n",
            "=================================================================\n",
            "embedding_11 (Embedding)     (64, None, 256)           17152     \n",
            "_________________________________________________________________\n",
            "lstm_11 (LSTM)               (64, None, 512)           1574912   \n",
            "_________________________________________________________________\n",
            "dense_11 (Dense)             (64, None, 67)            34371     \n",
            "=================================================================\n",
            "Total params: 1,626,435\n",
            "Trainable params: 1,626,435\n",
            "Non-trainable params: 0\n",
            "_________________________________________________________________\n"
          ],
          "name": "stdout"
        }
      ]
    },
    {
      "cell_type": "code",
      "metadata": {
        "id": "-i0Zd_LyMMpL",
        "colab_type": "code",
        "colab": {}
      },
      "source": [
        "def loss(labels, logits):\n",
        "  \n",
        "  '''\n",
        "  This function returns the cross entropy loss.\n",
        "  '''\n",
        "  return tf.keras.losses.sparse_categorical_crossentropy(labels, logits, from_logits=True)\n",
        "\n",
        "adam = tf.keras.optimizers.Adam(lr=0.01, beta_1=0.9, beta_2=0.999, epsilon=None, decay=0.01, amsgrad=False, clipnorm = 5)\n",
        "model.compile(optimizer='adam', loss=loss)\n",
        "checkpoint_dir = '/content/gdrive/My Drive/Colab Notebooks/Checkpoints'\n",
        "checkpoint_prefix = os.path.join(checkpoint_dir, \"ckpt_{epoch}\")\n",
        "checkpoint_callback=tf.keras.callbacks.ModelCheckpoint(filepath=checkpoint_prefix,save_weights_only=True)"
      ],
      "execution_count": 0,
      "outputs": []
    },
    {
      "cell_type": "code",
      "metadata": {
        "id": "cEznFDnrNWSc",
        "colab_type": "code",
        "colab": {
          "base_uri": "https://localhost:8080/",
          "height": 1000
        },
        "outputId": "950b9747-a6db-4a61-ed00-485fcc3aa1e0"
      },
      "source": [
        "#fitting the model and plotting loss curve\n",
        "history = model.fit(dataset, epochs=15, steps_per_epoch=64, callbacks=[checkpoint_callback])\n",
        "plt.plot(history.history['loss'])"
      ],
      "execution_count": 35,
      "outputs": [
        {
          "output_type": "stream",
          "text": [
            "Epoch 1/15\n"
          ],
          "name": "stdout"
        },
        {
          "output_type": "stream",
          "text": [
            "W0703 11:12:36.211042 140704702592896 util.py:244] Unresolved object in checkpoint: (root).optimizer\n",
            "W0703 11:12:36.212492 140704702592896 util.py:244] Unresolved object in checkpoint: (root).optimizer.iter\n",
            "W0703 11:12:36.213868 140704702592896 util.py:244] Unresolved object in checkpoint: (root).optimizer.beta_1\n",
            "W0703 11:12:36.218329 140704702592896 util.py:244] Unresolved object in checkpoint: (root).optimizer.beta_2\n",
            "W0703 11:12:36.220155 140704702592896 util.py:244] Unresolved object in checkpoint: (root).optimizer.decay\n",
            "W0703 11:12:36.222227 140704702592896 util.py:244] Unresolved object in checkpoint: (root).optimizer.learning_rate\n",
            "W0703 11:12:36.223495 140704702592896 util.py:244] Unresolved object in checkpoint: (root).optimizer's state 'm' for (root).layer_with_weights-0.embeddings\n",
            "W0703 11:12:36.224541 140704702592896 util.py:244] Unresolved object in checkpoint: (root).optimizer's state 'm' for (root).layer_with_weights-2.kernel\n",
            "W0703 11:12:36.226265 140704702592896 util.py:244] Unresolved object in checkpoint: (root).optimizer's state 'm' for (root).layer_with_weights-2.bias\n",
            "W0703 11:12:36.228098 140704702592896 util.py:244] Unresolved object in checkpoint: (root).optimizer's state 'm' for (root).layer_with_weights-1.cell.kernel\n",
            "W0703 11:12:36.229887 140704702592896 util.py:244] Unresolved object in checkpoint: (root).optimizer's state 'm' for (root).layer_with_weights-1.cell.recurrent_kernel\n",
            "W0703 11:12:36.231103 140704702592896 util.py:244] Unresolved object in checkpoint: (root).optimizer's state 'm' for (root).layer_with_weights-1.cell.bias\n",
            "W0703 11:12:36.232275 140704702592896 util.py:244] Unresolved object in checkpoint: (root).optimizer's state 'v' for (root).layer_with_weights-0.embeddings\n",
            "W0703 11:12:36.233434 140704702592896 util.py:244] Unresolved object in checkpoint: (root).optimizer's state 'v' for (root).layer_with_weights-2.kernel\n",
            "W0703 11:12:36.235800 140704702592896 util.py:244] Unresolved object in checkpoint: (root).optimizer's state 'v' for (root).layer_with_weights-2.bias\n",
            "W0703 11:12:36.237401 140704702592896 util.py:244] Unresolved object in checkpoint: (root).optimizer's state 'v' for (root).layer_with_weights-1.cell.kernel\n",
            "W0703 11:12:36.238982 140704702592896 util.py:244] Unresolved object in checkpoint: (root).optimizer's state 'v' for (root).layer_with_weights-1.cell.recurrent_kernel\n",
            "W0703 11:12:36.240664 140704702592896 util.py:244] Unresolved object in checkpoint: (root).optimizer's state 'v' for (root).layer_with_weights-1.cell.bias\n",
            "W0703 11:12:36.242637 140704702592896 util.py:252] A checkpoint was restored (e.g. tf.train.Checkpoint.restore or tf.keras.Model.load_weights) but not all checkpointed values were used. See above for specific issues. Use expect_partial() on the load status object, e.g. tf.train.Checkpoint.restore(...).expect_partial(), to silence these warnings, or use assert_consumed() to make the check explicit. See https://www.tensorflow.org/alpha/guide/checkpoints#loading_mechanics for details.\n",
            "W0703 11:12:36.245757 140704702592896 util.py:244] Unresolved object in checkpoint: (root).optimizer\n",
            "W0703 11:12:36.247751 140704702592896 util.py:244] Unresolved object in checkpoint: (root).optimizer.iter\n",
            "W0703 11:12:36.250046 140704702592896 util.py:244] Unresolved object in checkpoint: (root).optimizer.beta_1\n",
            "W0703 11:12:36.252066 140704702592896 util.py:244] Unresolved object in checkpoint: (root).optimizer.beta_2\n",
            "W0703 11:12:36.254729 140704702592896 util.py:244] Unresolved object in checkpoint: (root).optimizer.decay\n",
            "W0703 11:12:36.256809 140704702592896 util.py:244] Unresolved object in checkpoint: (root).optimizer.learning_rate\n",
            "W0703 11:12:36.258518 140704702592896 util.py:244] Unresolved object in checkpoint: (root).optimizer's state 'm' for (root).layer_with_weights-0.embeddings\n",
            "W0703 11:12:36.260345 140704702592896 util.py:244] Unresolved object in checkpoint: (root).optimizer's state 'm' for (root).layer_with_weights-2.kernel\n",
            "W0703 11:12:36.262203 140704702592896 util.py:244] Unresolved object in checkpoint: (root).optimizer's state 'm' for (root).layer_with_weights-2.bias\n",
            "W0703 11:12:36.264554 140704702592896 util.py:244] Unresolved object in checkpoint: (root).optimizer's state 'm' for (root).layer_with_weights-1.cell.kernel\n",
            "W0703 11:12:36.266515 140704702592896 util.py:244] Unresolved object in checkpoint: (root).optimizer's state 'm' for (root).layer_with_weights-1.cell.recurrent_kernel\n",
            "W0703 11:12:36.268428 140704702592896 util.py:244] Unresolved object in checkpoint: (root).optimizer's state 'm' for (root).layer_with_weights-1.cell.bias\n",
            "W0703 11:12:36.270227 140704702592896 util.py:244] Unresolved object in checkpoint: (root).optimizer's state 'v' for (root).layer_with_weights-0.embeddings\n",
            "W0703 11:12:36.272008 140704702592896 util.py:244] Unresolved object in checkpoint: (root).optimizer's state 'v' for (root).layer_with_weights-2.kernel\n",
            "W0703 11:12:36.274104 140704702592896 util.py:244] Unresolved object in checkpoint: (root).optimizer's state 'v' for (root).layer_with_weights-2.bias\n",
            "W0703 11:12:36.276084 140704702592896 util.py:244] Unresolved object in checkpoint: (root).optimizer's state 'v' for (root).layer_with_weights-1.cell.kernel\n",
            "W0703 11:12:36.278168 140704702592896 util.py:244] Unresolved object in checkpoint: (root).optimizer's state 'v' for (root).layer_with_weights-1.cell.recurrent_kernel\n",
            "W0703 11:12:36.279690 140704702592896 util.py:244] Unresolved object in checkpoint: (root).optimizer's state 'v' for (root).layer_with_weights-1.cell.bias\n",
            "W0703 11:12:36.281471 140704702592896 util.py:252] A checkpoint was restored (e.g. tf.train.Checkpoint.restore or tf.keras.Model.load_weights) but not all checkpointed values were used. See above for specific issues. Use expect_partial() on the load status object, e.g. tf.train.Checkpoint.restore(...).expect_partial(), to silence these warnings, or use assert_consumed() to make the check explicit. See https://www.tensorflow.org/alpha/guide/checkpoints#loading_mechanics for details.\n"
          ],
          "name": "stderr"
        },
        {
          "output_type": "stream",
          "text": [
            "64/64 [==============================] - 40s 624ms/step - loss: 3.2337\n",
            "Epoch 2/15\n",
            "64/64 [==============================] - 36s 563ms/step - loss: 2.4439\n",
            "Epoch 3/15\n",
            "64/64 [==============================] - 36s 559ms/step - loss: 2.2075\n",
            "Epoch 4/15\n",
            "64/64 [==============================] - 35s 554ms/step - loss: 2.0783\n",
            "Epoch 5/15\n",
            "64/64 [==============================] - 35s 552ms/step - loss: 1.9769\n",
            "Epoch 6/15\n",
            "64/64 [==============================] - 35s 547ms/step - loss: 1.9123\n",
            "Epoch 7/15\n",
            "64/64 [==============================] - 35s 553ms/step - loss: 1.8469\n",
            "Epoch 8/15\n",
            "64/64 [==============================] - 35s 551ms/step - loss: 1.7937\n",
            "Epoch 9/15\n",
            "64/64 [==============================] - 35s 546ms/step - loss: 1.7485\n",
            "Epoch 10/15\n",
            "64/64 [==============================] - 35s 542ms/step - loss: 1.7001\n",
            "Epoch 11/15\n",
            "64/64 [==============================] - 35s 548ms/step - loss: 1.6666\n",
            "Epoch 12/15\n",
            " 3/64 [>.............................] - ETA: 32s - loss: 1.6706"
          ],
          "name": "stdout"
        },
        {
          "output_type": "stream",
          "text": [
            "W0703 11:19:07.526247 140704702592896 training_generator.py:235] Your dataset ran out of data; interrupting training. Make sure that your dataset can generate at least `steps_per_epoch * epochs` batches (in this case, 960 batches). You may need to use the repeat() function when building your dataset.\n"
          ],
          "name": "stderr"
        },
        {
          "output_type": "stream",
          "text": [
            "\b\b\b\b\b\b\b\b\b\b\b\b\b\b\b\b\b\b\b\b\b\b\b\b\b\b\b\b\b\b\b\b\b\b\b\b\b\b\b\b\b\b\b\b\b\b\b\b\b\b\b\b\b\b\b\b\b\b\b\b\b\b\b\b\r 3/64 [>.............................] - ETA: 35s - loss: 1.6706"
          ],
          "name": "stdout"
        },
        {
          "output_type": "execute_result",
          "data": {
            "text/plain": [
              "[<matplotlib.lines.Line2D at 0x7ff7bfe7ec18>]"
            ]
          },
          "metadata": {
            "tags": []
          },
          "execution_count": 35
        },
        {
          "output_type": "display_data",
          "data": {
            "image/png": "[encoded data removed]",
            "text/plain": [
              "<Figure size 432x288 with 1 Axes>"
            ]
          },
          "metadata": {
            "tags": []
          }
        }
      ]
    },
    {
      "cell_type": "code",
      "metadata": {
        "id": "yd7X3diJNxj4",
        "colab_type": "code",
        "colab": {
          "base_uri": "https://localhost:8080/",
          "height": 625
        },
        "outputId": "9ef58ca0-a7d3-4ce8-8ec1-2529f661b72c"
      },
      "source": [
        "def generate_text(model, start_string):\n",
        "  '''\n",
        "  This function generates a sequence of characters by taking\n",
        "  a seed as the start string.\n",
        "  '''\n",
        "  num_generate = 1000\n",
        "  input_eval = [char2idx[s] for s in start_string]\n",
        "  input_eval = tf.expand_dims(input_eval, 0)\n",
        "  text_generated = []\n",
        "  temperature = 1.0\n",
        "  model.reset_states()\n",
        "  for i in range(num_generate):\n",
        "      predictions = model(input_eval)\n",
        "      predictions = tf.squeeze(predictions, 0)\n",
        "      predictions = predictions / temperature\n",
        "      predicted_id = tf.random.categorical(predictions, num_samples=1)[-1,0].numpy()\n",
        "      input_eval = tf.expand_dims([predicted_id], 0)\n",
        "      text_generated.append(idx2char[predicted_id])\n",
        "\n",
        "  return (start_string + ''.join(text_generated))\n",
        "\n",
        "tf.train.latest_checkpoint(checkpoint_dir)\n",
        "model = build_model(vocab_size = len(dictionary),embedding_dim=256,rnn_units=512,batch_size=1)\n",
        "model.load_weights(tf.train.latest_checkpoint(checkpoint_dir))\n",
        "model.build(tf.TensorShape([1, None]))\n",
        "print(generate_text(model, start_string=u\"Gods poured thy thunder on the face of Earth. \")) "
      ],
      "execution_count": 43,
      "outputs": [
        {
          "output_type": "stream",
          "text": [
            "Gods poured thy thunder on the face of Earth. I priece you,\n",
            "Hat we come fellionous eyes godness adlibence.\n",
            "\n",
            "BECDORW:\n",
            "Let me:\n",
            "Whonesomatt sutcho's a rine ecour all thee leave lang the\n",
            "that t owd not thuse as Porcessaid,\n",
            "With you hee, priff in this every what me,\n",
            "World these trige thy dods Marnct five and at forse;\n",
            "And ca hid Musing king.\n",
            "\n",
            "SIMON:\n",
            "Thou have servants me, Sirain?''ther some, that's nworth\n",
            "deshembity a gidle rapurech's was confeik and in too was.\n",
            "\n",
            "IANGO:\n",
            "Thouselt's my wital.\n",
            "\n",
            "Plown:\n",
            "By devemnatant, then cout, and thinm, be\n",
            "the Cure of than seef thy deat\n",
            "Thou are one what it what if the best?\n",
            "\n",
            "BASTHARCS:\n",
            "Luty you knywere!\n",
            "He linghow that your majagat to hever a fancest ploce\n",
            "That a fear of him and given togthes:\n",
            "A bread toogh: 'Wight thou\n",
            "Eaqurious of Surid his miracion\n",
            "Neces these they by your lipey of Vasish,\n",
            "Look you, this weel up, our, whyselfous a\n",
            "bears, co you arvent; I'll secus\n",
            "As good me? evey of Mackleas! Ake them's gentle this ince:\n",
            "I'll no hencefored me one of all as dore,\n",
            "Samet the purs and thoughts and him e\n"
          ],
          "name": "stdout"
        }
      ]
    },
    {
      "cell_type": "code",
      "metadata": {
        "id": "a38gNlDwatKv",
        "colab_type": "code",
        "colab": {}
      },
      "source": [
        ""
      ],
      "execution_count": 0,
      "outputs": []
    }
  ]
}